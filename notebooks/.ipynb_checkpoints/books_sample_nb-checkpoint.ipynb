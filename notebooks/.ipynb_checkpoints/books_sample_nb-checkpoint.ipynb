{
 "cells": [
  {
   "cell_type": "markdown",
   "metadata": {},
   "source": [
    "# The story of building a collaborative filter\n",
    "## Introduction\n",
    "\n",
    "The purpose of this notebook is to practice creating a collaborative recommender. I followed code posted on Kaggle.com, where the data can be obtained.\n",
    "\n",
    "* Code credit to [here](https://www.kaggle.com/sriharshavogeti/collaborative-recommender-system-on-goodreads)\n",
    "* Data from [here](https://www.kaggle.com/zygmunt/goodbooks-10k)"
   ]
  },
  {
   "cell_type": "markdown",
   "metadata": {},
   "source": [
    "## Preliminaries\n",
    "\n",
    "Import the necessary packages"
   ]
  },
  {
   "cell_type": "code",
   "execution_count": 126,
   "metadata": {},
   "outputs": [],
   "source": [
    "import pandas as pd\n",
    "import numpy as np\n",
    "from sklearn.feature_extraction import DictVectorizer\n",
    "from sklearn.metrics.pairwise import cosine_similarity"
   ]
  },
  {
   "cell_type": "markdown",
   "metadata": {},
   "source": [
    "Read the data"
   ]
  },
  {
   "cell_type": "code",
   "execution_count": 107,
   "metadata": {},
   "outputs": [],
   "source": [
    "df_books = pd.read_csv('../data/books.csv')\n",
    "df_ratings = pd.read_csv('../data/ratings.csv')\n",
    "df_tags = pd.read_csv('../data/tags.csv')\n",
    "df_book_tags = pd.read_csv('../data/book_tags.csv')"
   ]
  },
  {
   "cell_type": "markdown",
   "metadata": {},
   "source": [
    "Look at the info for each dataframe "
   ]
  },
  {
   "cell_type": "code",
   "execution_count": 108,
   "metadata": {},
   "outputs": [
    {
     "name": "stdout",
     "output_type": "stream",
     "text": [
      "<class 'pandas.core.frame.DataFrame'>\n",
      "RangeIndex: 10000 entries, 0 to 9999\n",
      "Data columns (total 23 columns):\n",
      "id                           10000 non-null int64\n",
      "book_id                      10000 non-null int64\n",
      "best_book_id                 10000 non-null int64\n",
      "work_id                      10000 non-null int64\n",
      "books_count                  10000 non-null int64\n",
      "isbn                         9300 non-null object\n",
      "isbn13                       9415 non-null float64\n",
      "authors                      10000 non-null object\n",
      "original_publication_year    9979 non-null float64\n",
      "original_title               9415 non-null object\n",
      "title                        10000 non-null object\n",
      "language_code                8916 non-null object\n",
      "average_rating               10000 non-null float64\n",
      "ratings_count                10000 non-null int64\n",
      "work_ratings_count           10000 non-null int64\n",
      "work_text_reviews_count      10000 non-null int64\n",
      "ratings_1                    10000 non-null int64\n",
      "ratings_2                    10000 non-null int64\n",
      "ratings_3                    10000 non-null int64\n",
      "ratings_4                    10000 non-null int64\n",
      "ratings_5                    10000 non-null int64\n",
      "image_url                    10000 non-null object\n",
      "small_image_url              10000 non-null object\n",
      "dtypes: float64(3), int64(13), object(7)\n",
      "memory usage: 1.8+ MB\n"
     ]
    }
   ],
   "source": [
    "df_books.info(2)"
   ]
  },
  {
   "cell_type": "code",
   "execution_count": 27,
   "metadata": {},
   "outputs": [
    {
     "data": {
      "text/html": [
       "<div>\n",
       "<style scoped>\n",
       "    .dataframe tbody tr th:only-of-type {\n",
       "        vertical-align: middle;\n",
       "    }\n",
       "\n",
       "    .dataframe tbody tr th {\n",
       "        vertical-align: top;\n",
       "    }\n",
       "\n",
       "    .dataframe thead th {\n",
       "        text-align: right;\n",
       "    }\n",
       "</style>\n",
       "<table border=\"1\" class=\"dataframe\">\n",
       "  <thead>\n",
       "    <tr style=\"text-align: right;\">\n",
       "      <th></th>\n",
       "      <th>id</th>\n",
       "      <th>book_id</th>\n",
       "      <th>best_book_id</th>\n",
       "      <th>work_id</th>\n",
       "      <th>books_count</th>\n",
       "      <th>isbn</th>\n",
       "      <th>isbn13</th>\n",
       "      <th>authors</th>\n",
       "      <th>original_publication_year</th>\n",
       "      <th>original_title</th>\n",
       "      <th>...</th>\n",
       "      <th>ratings_count</th>\n",
       "      <th>work_ratings_count</th>\n",
       "      <th>work_text_reviews_count</th>\n",
       "      <th>ratings_1</th>\n",
       "      <th>ratings_2</th>\n",
       "      <th>ratings_3</th>\n",
       "      <th>ratings_4</th>\n",
       "      <th>ratings_5</th>\n",
       "      <th>image_url</th>\n",
       "      <th>small_image_url</th>\n",
       "    </tr>\n",
       "  </thead>\n",
       "  <tbody>\n",
       "    <tr>\n",
       "      <th>0</th>\n",
       "      <td>1</td>\n",
       "      <td>2767052</td>\n",
       "      <td>2767052</td>\n",
       "      <td>2792775</td>\n",
       "      <td>272</td>\n",
       "      <td>439023483</td>\n",
       "      <td>9.780439e+12</td>\n",
       "      <td>Suzanne Collins</td>\n",
       "      <td>2008.0</td>\n",
       "      <td>The Hunger Games</td>\n",
       "      <td>...</td>\n",
       "      <td>4780653</td>\n",
       "      <td>4942365</td>\n",
       "      <td>155254</td>\n",
       "      <td>66715</td>\n",
       "      <td>127936</td>\n",
       "      <td>560092</td>\n",
       "      <td>1481305</td>\n",
       "      <td>2706317</td>\n",
       "      <td>https://images.gr-assets.com/books/1447303603m...</td>\n",
       "      <td>https://images.gr-assets.com/books/1447303603s...</td>\n",
       "    </tr>\n",
       "    <tr>\n",
       "      <th>1</th>\n",
       "      <td>2</td>\n",
       "      <td>3</td>\n",
       "      <td>3</td>\n",
       "      <td>4640799</td>\n",
       "      <td>491</td>\n",
       "      <td>439554934</td>\n",
       "      <td>9.780440e+12</td>\n",
       "      <td>J.K. Rowling, Mary GrandPré</td>\n",
       "      <td>1997.0</td>\n",
       "      <td>Harry Potter and the Philosopher's Stone</td>\n",
       "      <td>...</td>\n",
       "      <td>4602479</td>\n",
       "      <td>4800065</td>\n",
       "      <td>75867</td>\n",
       "      <td>75504</td>\n",
       "      <td>101676</td>\n",
       "      <td>455024</td>\n",
       "      <td>1156318</td>\n",
       "      <td>3011543</td>\n",
       "      <td>https://images.gr-assets.com/books/1474154022m...</td>\n",
       "      <td>https://images.gr-assets.com/books/1474154022s...</td>\n",
       "    </tr>\n",
       "  </tbody>\n",
       "</table>\n",
       "<p>2 rows × 23 columns</p>\n",
       "</div>"
      ],
      "text/plain": [
       "   id  book_id  best_book_id  work_id  books_count       isbn        isbn13  \\\n",
       "0   1  2767052       2767052  2792775          272  439023483  9.780439e+12   \n",
       "1   2        3             3  4640799          491  439554934  9.780440e+12   \n",
       "\n",
       "                       authors  original_publication_year  \\\n",
       "0              Suzanne Collins                     2008.0   \n",
       "1  J.K. Rowling, Mary GrandPré                     1997.0   \n",
       "\n",
       "                             original_title  ... ratings_count  \\\n",
       "0                          The Hunger Games  ...       4780653   \n",
       "1  Harry Potter and the Philosopher's Stone  ...       4602479   \n",
       "\n",
       "  work_ratings_count  work_text_reviews_count  ratings_1  ratings_2  \\\n",
       "0            4942365                   155254      66715     127936   \n",
       "1            4800065                    75867      75504     101676   \n",
       "\n",
       "   ratings_3  ratings_4  ratings_5  \\\n",
       "0     560092    1481305    2706317   \n",
       "1     455024    1156318    3011543   \n",
       "\n",
       "                                           image_url  \\\n",
       "0  https://images.gr-assets.com/books/1447303603m...   \n",
       "1  https://images.gr-assets.com/books/1474154022m...   \n",
       "\n",
       "                                     small_image_url  \n",
       "0  https://images.gr-assets.com/books/1447303603s...  \n",
       "1  https://images.gr-assets.com/books/1474154022s...  \n",
       "\n",
       "[2 rows x 23 columns]"
      ]
     },
     "execution_count": 27,
     "metadata": {},
     "output_type": "execute_result"
    }
   ],
   "source": [
    "df_books.head(2)"
   ]
  },
  {
   "cell_type": "code",
   "execution_count": 34,
   "metadata": {},
   "outputs": [
    {
     "name": "stdout",
     "output_type": "stream",
     "text": [
      "<class 'pandas.core.frame.DataFrame'>\n",
      "RangeIndex: 981756 entries, 0 to 981755\n",
      "Data columns (total 3 columns):\n",
      "book_id    981756 non-null int64\n",
      "user_id    981756 non-null int64\n",
      "rating     981756 non-null int64\n",
      "dtypes: int64(3)\n",
      "memory usage: 22.5 MB\n"
     ]
    }
   ],
   "source": [
    "df_ratings.info(2)"
   ]
  },
  {
   "cell_type": "code",
   "execution_count": 29,
   "metadata": {},
   "outputs": [
    {
     "name": "stdout",
     "output_type": "stream",
     "text": [
      "<class 'pandas.core.frame.DataFrame'>\n",
      "RangeIndex: 34252 entries, 0 to 34251\n",
      "Data columns (total 2 columns):\n",
      "tag_id      34252 non-null int64\n",
      "tag_name    34252 non-null object\n",
      "dtypes: int64(1), object(1)\n",
      "memory usage: 535.3+ KB\n"
     ]
    }
   ],
   "source": [
    "df_tags.info()"
   ]
  },
  {
   "cell_type": "code",
   "execution_count": 30,
   "metadata": {},
   "outputs": [
    {
     "name": "stdout",
     "output_type": "stream",
     "text": [
      "<class 'pandas.core.frame.DataFrame'>\n",
      "RangeIndex: 999912 entries, 0 to 999911\n",
      "Data columns (total 3 columns):\n",
      "goodreads_book_id    999912 non-null int64\n",
      "tag_id               999912 non-null int64\n",
      "count                999912 non-null int64\n",
      "dtypes: int64(3)\n",
      "memory usage: 22.9 MB\n"
     ]
    }
   ],
   "source": [
    "df_book_tags.info()"
   ]
  },
  {
   "cell_type": "code",
   "execution_count": 149,
   "metadata": {},
   "outputs": [
    {
     "name": "stdout",
     "output_type": "stream",
     "text": [
      "The number of reviews is 981756.\n"
     ]
    }
   ],
   "source": [
    "print(f'The number of reviews is {len(df_ratings)}.')"
   ]
  },
  {
   "cell_type": "markdown",
   "metadata": {},
   "source": [
    "## More preliminaries..."
   ]
  },
  {
   "cell_type": "markdown",
   "metadata": {},
   "source": [
    "This section is for tests to understand the following code.\n",
    "\n",
    "First, let's look at the groupby method \n",
    "* returns a groupby object that contains information about the groups\n",
    "* need to add a function that does something with the groups to see the result\n",
    "* example from the documentation [here](https://pandas.pydata.org/pandas-docs/stable/reference/api/pandas.DataFrame.groupby.html)"
   ]
  },
  {
   "cell_type": "code",
   "execution_count": 155,
   "metadata": {},
   "outputs": [
    {
     "data": {
      "text/html": [
       "<div>\n",
       "<style scoped>\n",
       "    .dataframe tbody tr th:only-of-type {\n",
       "        vertical-align: middle;\n",
       "    }\n",
       "\n",
       "    .dataframe tbody tr th {\n",
       "        vertical-align: top;\n",
       "    }\n",
       "\n",
       "    .dataframe thead th {\n",
       "        text-align: right;\n",
       "    }\n",
       "</style>\n",
       "<table border=\"1\" class=\"dataframe\">\n",
       "  <thead>\n",
       "    <tr style=\"text-align: right;\">\n",
       "      <th></th>\n",
       "      <th>Animal</th>\n",
       "      <th>Max Speed</th>\n",
       "    </tr>\n",
       "  </thead>\n",
       "  <tbody>\n",
       "    <tr>\n",
       "      <th>0</th>\n",
       "      <td>Falcon</td>\n",
       "      <td>380.0</td>\n",
       "    </tr>\n",
       "    <tr>\n",
       "      <th>1</th>\n",
       "      <td>Falcon</td>\n",
       "      <td>370.0</td>\n",
       "    </tr>\n",
       "    <tr>\n",
       "      <th>2</th>\n",
       "      <td>Parrot</td>\n",
       "      <td>24.0</td>\n",
       "    </tr>\n",
       "    <tr>\n",
       "      <th>3</th>\n",
       "      <td>Parrot</td>\n",
       "      <td>26.0</td>\n",
       "    </tr>\n",
       "  </tbody>\n",
       "</table>\n",
       "</div>"
      ],
      "text/plain": [
       "   Animal  Max Speed\n",
       "0  Falcon      380.0\n",
       "1  Falcon      370.0\n",
       "2  Parrot       24.0\n",
       "3  Parrot       26.0"
      ]
     },
     "execution_count": 155,
     "metadata": {},
     "output_type": "execute_result"
    }
   ],
   "source": [
    "df = pd.DataFrame({'Animal': ['Falcon', 'Falcon',\n",
    "                              'Parrot', 'Parrot'],\n",
    "                   'Max Speed': [380., 370., 24., 26.]})\n",
    "df"
   ]
  },
  {
   "cell_type": "code",
   "execution_count": 162,
   "metadata": {},
   "outputs": [
    {
     "data": {
      "text/html": [
       "<div>\n",
       "<style scoped>\n",
       "    .dataframe tbody tr th:only-of-type {\n",
       "        vertical-align: middle;\n",
       "    }\n",
       "\n",
       "    .dataframe tbody tr th {\n",
       "        vertical-align: top;\n",
       "    }\n",
       "\n",
       "    .dataframe thead th {\n",
       "        text-align: right;\n",
       "    }\n",
       "</style>\n",
       "<table border=\"1\" class=\"dataframe\">\n",
       "  <thead>\n",
       "    <tr style=\"text-align: right;\">\n",
       "      <th></th>\n",
       "      <th>Max Speed</th>\n",
       "    </tr>\n",
       "    <tr>\n",
       "      <th>Animal</th>\n",
       "      <th></th>\n",
       "    </tr>\n",
       "  </thead>\n",
       "  <tbody>\n",
       "    <tr>\n",
       "      <th>Falcon</th>\n",
       "      <td>750.0</td>\n",
       "    </tr>\n",
       "    <tr>\n",
       "      <th>Parrot</th>\n",
       "      <td>50.0</td>\n",
       "    </tr>\n",
       "  </tbody>\n",
       "</table>\n",
       "</div>"
      ],
      "text/plain": [
       "        Max Speed\n",
       "Animal           \n",
       "Falcon      750.0\n",
       "Parrot       50.0"
      ]
     },
     "execution_count": 162,
     "metadata": {},
     "output_type": "execute_result"
    }
   ],
   "source": [
    "df.groupby(['Animal']).mean()\n",
    "df.groupby(['Animal']).max()\n",
    "df.groupby(['Animal']).sum()"
   ]
  },
  {
   "cell_type": "markdown",
   "metadata": {},
   "source": [
    "So we take the first step in our recommender and group the user ratings by book."
   ]
  },
  {
   "cell_type": "code",
   "execution_count": 156,
   "metadata": {},
   "outputs": [],
   "source": [
    "# create groups in the dataframe\n",
    "testdf = df_ratings[['user_id','rating']].groupby(df_ratings['book_id'])\n"
   ]
  },
  {
   "cell_type": "code",
   "execution_count": 163,
   "metadata": {},
   "outputs": [
    {
     "name": "stdout",
     "output_type": "stream",
     "text": [
      "There are 10000 groups (think: books) in the ratings dataframe.\n"
     ]
    }
   ],
   "source": [
    "print(f'There are {len(testdf.groups.keys())} groups (think: books) in the ratings dataframe.')"
   ]
  },
  {
   "cell_type": "code",
   "execution_count": 167,
   "metadata": {},
   "outputs": [
    {
     "name": "stdout",
     "output_type": "stream",
     "text": [
      "In group 1 there are 100 reviews.\n"
     ]
    }
   ],
   "source": [
    "testdf.get_group(1)\n",
    "print(f'In group 1 there are {len(testdf.get_group(1))} reviews.')"
   ]
  },
  {
   "cell_type": "markdown",
   "metadata": {},
   "source": [
    "## Recommender prep code\n",
    "Here, we make a list of dictionaries from the big dataframe. See the comments in the code.\n"
   ]
  },
  {
   "cell_type": "code",
   "execution_count": 113,
   "metadata": {},
   "outputs": [],
   "source": [
    "listOfDictonaries = []\n",
    "indexMap = {}\n",
    "reverseIndexMap = {}\n",
    "ptr = 0\n",
    "\n",
    "for book_key in testdf.groups.keys(): # testdf.groups.keys() is # of books with ratings\n",
    "    tempDict={}\n",
    "    \n",
    "    groupDF = testdf.get_group(book_key) #new df - one book with all the reviews\n",
    "\n",
    "    for idx in range(0,len(groupDF)):  #for all the ratings in the new df\n",
    "        tempDict[groupDF.iloc[idx,0]] = groupDF.iloc[idx,1] #let the tempdict store the rating in a dict object\n",
    "    \n",
    "    listOfDictonaries.append(tempDict)\n",
    "\n",
    "    #use a pointer scheme\n",
    "    indexMap[ptr] = book_key\n",
    "    reverseIndexMap[book_key] = ptr #for next step\n",
    "    ptr = ptr+1"
   ]
  },
  {
   "cell_type": "markdown",
   "metadata": {},
   "source": [
    "So, we now have a list of dictionaries where each dictionary is a book with ratings.\n",
    "_____________"
   ]
  },
  {
   "cell_type": "markdown",
   "metadata": {},
   "source": [
    "An aside... do all the books have 100 ratings? (Answer - No)"
   ]
  },
  {
   "cell_type": "code",
   "execution_count": 114,
   "metadata": {},
   "outputs": [
    {
     "data": {
      "text/plain": [
       "100"
      ]
     },
     "execution_count": 114,
     "metadata": {},
     "output_type": "execute_result"
    }
   ],
   "source": [
    "len(listOfDictonaries[0])"
   ]
  },
  {
   "cell_type": "code",
   "execution_count": 1,
   "metadata": {},
   "outputs": [],
   "source": [
    "# for idx in testdf.groups.keys():\n",
    "#     if len(listOfDictonaries[idx]) != 100:\n",
    "#         print(idx);"
   ]
  },
  {
   "cell_type": "code",
   "execution_count": 116,
   "metadata": {},
   "outputs": [
    {
     "data": {
      "text/plain": [
       "99"
      ]
     },
     "execution_count": 116,
     "metadata": {},
     "output_type": "execute_result"
    }
   ],
   "source": [
    "len(listOfDictonaries[11])"
   ]
  },
  {
   "cell_type": "markdown",
   "metadata": {},
   "source": [
    "_______________"
   ]
  },
  {
   "cell_type": "markdown",
   "metadata": {},
   "source": [
    "## Create the collaborative recommender"
   ]
  },
  {
   "cell_type": "code",
   "execution_count": 117,
   "metadata": {},
   "outputs": [
    {
     "data": {
      "text/plain": [
       "<10000x53424 sparse matrix of type '<class 'numpy.float64'>'\n",
       "\twith 979478 stored elements in Compressed Sparse Row format>"
      ]
     },
     "execution_count": 117,
     "metadata": {},
     "output_type": "execute_result"
    }
   ],
   "source": [
    "#use DictVectorizer\n",
    "dictVectorizer = DictVectorizer(sparse=True)  #create a dictvectorizer instance\n",
    "vector = dictVectorizer.fit_transform(listOfDictonaries) #fir & transform the dictionaries\n",
    "vector #creates a spare matrix of numbers (floats)"
   ]
  },
  {
   "cell_type": "markdown",
   "metadata": {},
   "source": [
    "____________________________"
   ]
  },
  {
   "cell_type": "markdown",
   "metadata": {},
   "source": [
    "Woah! What is going on here? \n",
    "* Transform lists of feature-value mappings (the dictionaries) to vectors.\n",
    "* Example from documentation ([here](https://scikit-learn.org/stable/modules/generated/sklearn.feature_extraction.DictVectorizer.html)) below:"
   ]
  },
  {
   "cell_type": "code",
   "execution_count": 175,
   "metadata": {},
   "outputs": [
    {
     "data": {
      "text/plain": [
       "[{'foo': 1, 'bar': 2}, {'foo': 3, 'baz': 1}]"
      ]
     },
     "execution_count": 175,
     "metadata": {},
     "output_type": "execute_result"
    }
   ],
   "source": [
    "v = DictVectorizer(sparse=False)\n",
    "D = [{'foo': 1, 'bar': 2}, {'foo': 3, 'baz': 1}]\n",
    "D_df = pd.DataFrame(D)\n",
    "X = v.fit_transform(D)\n",
    "D"
   ]
  },
  {
   "cell_type": "code",
   "execution_count": 176,
   "metadata": {},
   "outputs": [
    {
     "data": {
      "text/html": [
       "<div>\n",
       "<style scoped>\n",
       "    .dataframe tbody tr th:only-of-type {\n",
       "        vertical-align: middle;\n",
       "    }\n",
       "\n",
       "    .dataframe tbody tr th {\n",
       "        vertical-align: top;\n",
       "    }\n",
       "\n",
       "    .dataframe thead th {\n",
       "        text-align: right;\n",
       "    }\n",
       "</style>\n",
       "<table border=\"1\" class=\"dataframe\">\n",
       "  <thead>\n",
       "    <tr style=\"text-align: right;\">\n",
       "      <th></th>\n",
       "      <th>bar</th>\n",
       "      <th>baz</th>\n",
       "      <th>foo</th>\n",
       "    </tr>\n",
       "  </thead>\n",
       "  <tbody>\n",
       "    <tr>\n",
       "      <th>0</th>\n",
       "      <td>2.0</td>\n",
       "      <td>NaN</td>\n",
       "      <td>1</td>\n",
       "    </tr>\n",
       "    <tr>\n",
       "      <th>1</th>\n",
       "      <td>NaN</td>\n",
       "      <td>1.0</td>\n",
       "      <td>3</td>\n",
       "    </tr>\n",
       "  </tbody>\n",
       "</table>\n",
       "</div>"
      ],
      "text/plain": [
       "   bar  baz  foo\n",
       "0  2.0  NaN    1\n",
       "1  NaN  1.0    3"
      ]
     },
     "execution_count": 176,
     "metadata": {},
     "output_type": "execute_result"
    }
   ],
   "source": [
    "D_df"
   ]
  },
  {
   "cell_type": "code",
   "execution_count": 178,
   "metadata": {},
   "outputs": [
    {
     "data": {
      "text/plain": [
       "array([[2., 0., 1.],\n",
       "       [0., 1., 3.]])"
      ]
     },
     "execution_count": 178,
     "metadata": {},
     "output_type": "execute_result"
    }
   ],
   "source": [
    "X"
   ]
  },
  {
   "cell_type": "markdown",
   "metadata": {},
   "source": [
    "_______________"
   ]
  },
  {
   "cell_type": "markdown",
   "metadata": {},
   "source": [
    "We use the idea of a cosine similarity matrix to find book vectors that are similar based on ratings."
   ]
  },
  {
   "cell_type": "code",
   "execution_count": 119,
   "metadata": {},
   "outputs": [],
   "source": [
    "pairwiseSimilarity = cosine_similarity(vector)"
   ]
  },
  {
   "cell_type": "code",
   "execution_count": 120,
   "metadata": {},
   "outputs": [
    {
     "data": {
      "text/plain": [
       "numpy.ndarray"
      ]
     },
     "execution_count": 120,
     "metadata": {},
     "output_type": "execute_result"
    }
   ],
   "source": [
    "type(pairwiseSimilarity)"
   ]
  },
  {
   "cell_type": "markdown",
   "metadata": {},
   "source": [
    "## Bazinga!!\n",
    "And finally..."
   ]
  },
  {
   "cell_type": "code",
   "execution_count": 140,
   "metadata": {},
   "outputs": [],
   "source": [
    "def printBookDetails(bookID):\n",
    "    print(\"Title:\", df_books[df_books['id']==bookID]['original_title'].values[0])\n",
    "    print(\"Author:\",df_books[df_books['id']==bookID]['authors'].values[0])\n",
    "    print(\"Printing Book-ID:\",bookID)\n",
    "    print(\"=================++++++++++++++=========================\")\n",
    "\n",
    "\n",
    "def getTopRecommandations(bookID):\n",
    "    row = reverseIndexMap[bookID]\n",
    "    print(\"------INPUT BOOK--------\")\n",
    "    printBookDetails(bookID)\n",
    "    print(\"-------RECOMMENDATIONS----------\")\n",
    "    similarBookIDs = [printBookDetails(indexMap[i]) for i in np.argsort(pairwiseSimilarity[row])[-7:-2][::-1]]"
   ]
  },
  {
   "cell_type": "code",
   "execution_count": 141,
   "metadata": {},
   "outputs": [
    {
     "name": "stdout",
     "output_type": "stream",
     "text": [
      "Title: The Brethren\n",
      "Author: John Grisham\n",
      "Printing Book-ID: 1245\n",
      "=================++++++++++++++=========================\n"
     ]
    }
   ],
   "source": [
    "printBookDetails(1245)"
   ]
  },
  {
   "cell_type": "code",
   "execution_count": 127,
   "metadata": {},
   "outputs": [
    {
     "name": "stdout",
     "output_type": "stream",
     "text": [
      "------INPUT BOOK--------\n",
      "Title: The Hunger Games\n",
      "Author: Suzanne Collins\n",
      "Printing Book-ID: 1\n",
      "=================++++++++++++++=========================\n",
      "-------RECOMMENDATIONS----------\n",
      "Title: The Help\n",
      "Author: Kathryn Stockett\n",
      "Printing Book-ID: 31\n",
      "=================++++++++++++++=========================\n",
      "Title: Harry Potter and the Philosopher's Stone\n",
      "Author: J.K. Rowling, Mary GrandPré\n",
      "Printing Book-ID: 2\n",
      "=================++++++++++++++=========================\n",
      "Title: Mockingjay\n",
      "Author: Suzanne Collins\n",
      "Printing Book-ID: 20\n",
      "=================++++++++++++++=========================\n",
      "Title: Twilight\n",
      "Author: Stephenie Meyer\n",
      "Printing Book-ID: 3\n",
      "=================++++++++++++++=========================\n",
      "Title: The Secret Garden\n",
      "Author: Frances Hodgson Burnett\n",
      "Printing Book-ID: 93\n",
      "=================++++++++++++++=========================\n"
     ]
    }
   ],
   "source": [
    "getTopRecommandations(1)"
   ]
  },
  {
   "cell_type": "markdown",
   "metadata": {},
   "source": [
    "We can search by author."
   ]
  },
  {
   "cell_type": "code",
   "execution_count": 146,
   "metadata": {},
   "outputs": [
    {
     "data": {
      "text/html": [
       "<div>\n",
       "<style scoped>\n",
       "    .dataframe tbody tr th:only-of-type {\n",
       "        vertical-align: middle;\n",
       "    }\n",
       "\n",
       "    .dataframe tbody tr th {\n",
       "        vertical-align: top;\n",
       "    }\n",
       "\n",
       "    .dataframe thead th {\n",
       "        text-align: right;\n",
       "    }\n",
       "</style>\n",
       "<table border=\"1\" class=\"dataframe\">\n",
       "  <thead>\n",
       "    <tr style=\"text-align: right;\">\n",
       "      <th></th>\n",
       "      <th>id</th>\n",
       "      <th>book_id</th>\n",
       "      <th>best_book_id</th>\n",
       "      <th>work_id</th>\n",
       "      <th>books_count</th>\n",
       "      <th>isbn</th>\n",
       "      <th>isbn13</th>\n",
       "      <th>authors</th>\n",
       "      <th>original_publication_year</th>\n",
       "      <th>original_title</th>\n",
       "      <th>...</th>\n",
       "      <th>ratings_count</th>\n",
       "      <th>work_ratings_count</th>\n",
       "      <th>work_text_reviews_count</th>\n",
       "      <th>ratings_1</th>\n",
       "      <th>ratings_2</th>\n",
       "      <th>ratings_3</th>\n",
       "      <th>ratings_4</th>\n",
       "      <th>ratings_5</th>\n",
       "      <th>image_url</th>\n",
       "      <th>small_image_url</th>\n",
       "    </tr>\n",
       "  </thead>\n",
       "  <tbody>\n",
       "    <tr>\n",
       "      <th>47</th>\n",
       "      <td>48</td>\n",
       "      <td>4381</td>\n",
       "      <td>4381</td>\n",
       "      <td>1272463</td>\n",
       "      <td>507</td>\n",
       "      <td>307347974</td>\n",
       "      <td>9.780307e+12</td>\n",
       "      <td>Ray Bradbury</td>\n",
       "      <td>1953.0</td>\n",
       "      <td>Fahrenheit 451</td>\n",
       "      <td>...</td>\n",
       "      <td>570498</td>\n",
       "      <td>1176240</td>\n",
       "      <td>30694</td>\n",
       "      <td>28366</td>\n",
       "      <td>64289</td>\n",
       "      <td>238242</td>\n",
       "      <td>426292</td>\n",
       "      <td>419051</td>\n",
       "      <td>https://images.gr-assets.com/books/1351643740m...</td>\n",
       "      <td>https://images.gr-assets.com/books/1351643740s...</td>\n",
       "    </tr>\n",
       "    <tr>\n",
       "      <th>636</th>\n",
       "      <td>637</td>\n",
       "      <td>76778</td>\n",
       "      <td>76778</td>\n",
       "      <td>4636013</td>\n",
       "      <td>271</td>\n",
       "      <td>553278223</td>\n",
       "      <td>9.780553e+12</td>\n",
       "      <td>Ray Bradbury</td>\n",
       "      <td>1950.0</td>\n",
       "      <td>The Martian Chronicles</td>\n",
       "      <td>...</td>\n",
       "      <td>143236</td>\n",
       "      <td>156328</td>\n",
       "      <td>5204</td>\n",
       "      <td>1666</td>\n",
       "      <td>5808</td>\n",
       "      <td>28385</td>\n",
       "      <td>56556</td>\n",
       "      <td>63913</td>\n",
       "      <td>https://images.gr-assets.com/books/1374049948m...</td>\n",
       "      <td>https://images.gr-assets.com/books/1374049948s...</td>\n",
       "    </tr>\n",
       "    <tr>\n",
       "      <th>1640</th>\n",
       "      <td>1641</td>\n",
       "      <td>248596</td>\n",
       "      <td>248596</td>\n",
       "      <td>1183550</td>\n",
       "      <td>136</td>\n",
       "      <td>380729407</td>\n",
       "      <td>9.780381e+12</td>\n",
       "      <td>Ray Bradbury</td>\n",
       "      <td>1962.0</td>\n",
       "      <td>Something Wicked This Way Comes</td>\n",
       "      <td>...</td>\n",
       "      <td>64813</td>\n",
       "      <td>71886</td>\n",
       "      <td>4526</td>\n",
       "      <td>1121</td>\n",
       "      <td>3850</td>\n",
       "      <td>15942</td>\n",
       "      <td>27380</td>\n",
       "      <td>23593</td>\n",
       "      <td>https://images.gr-assets.com/books/1409596011m...</td>\n",
       "      <td>https://images.gr-assets.com/books/1409596011s...</td>\n",
       "    </tr>\n",
       "    <tr>\n",
       "      <th>1979</th>\n",
       "      <td>1980</td>\n",
       "      <td>24830</td>\n",
       "      <td>24830</td>\n",
       "      <td>1065861</td>\n",
       "      <td>123</td>\n",
       "      <td>000712774X</td>\n",
       "      <td>9.780007e+12</td>\n",
       "      <td>Ray Bradbury</td>\n",
       "      <td>1951.0</td>\n",
       "      <td>The Illustrated Man</td>\n",
       "      <td>...</td>\n",
       "      <td>49551</td>\n",
       "      <td>57968</td>\n",
       "      <td>2615</td>\n",
       "      <td>341</td>\n",
       "      <td>1688</td>\n",
       "      <td>10484</td>\n",
       "      <td>22836</td>\n",
       "      <td>22619</td>\n",
       "      <td>https://images.gr-assets.com/books/1374049820m...</td>\n",
       "      <td>https://images.gr-assets.com/books/1374049820s...</td>\n",
       "    </tr>\n",
       "    <tr>\n",
       "      <th>3126</th>\n",
       "      <td>3127</td>\n",
       "      <td>50033</td>\n",
       "      <td>50033</td>\n",
       "      <td>1627774</td>\n",
       "      <td>136</td>\n",
       "      <td>671037706</td>\n",
       "      <td>9.780671e+12</td>\n",
       "      <td>Ray Bradbury</td>\n",
       "      <td>1957.0</td>\n",
       "      <td>Dandelion Wine</td>\n",
       "      <td>...</td>\n",
       "      <td>32867</td>\n",
       "      <td>39979</td>\n",
       "      <td>3226</td>\n",
       "      <td>730</td>\n",
       "      <td>1958</td>\n",
       "      <td>7453</td>\n",
       "      <td>13001</td>\n",
       "      <td>16837</td>\n",
       "      <td>https://images.gr-assets.com/books/1374049845m...</td>\n",
       "      <td>https://images.gr-assets.com/books/1374049845s...</td>\n",
       "    </tr>\n",
       "  </tbody>\n",
       "</table>\n",
       "<p>5 rows × 23 columns</p>\n",
       "</div>"
      ],
      "text/plain": [
       "        id  book_id  best_book_id  work_id  books_count        isbn  \\\n",
       "47      48     4381          4381  1272463          507   307347974   \n",
       "636    637    76778         76778  4636013          271   553278223   \n",
       "1640  1641   248596        248596  1183550          136   380729407   \n",
       "1979  1980    24830         24830  1065861          123  000712774X   \n",
       "3126  3127    50033         50033  1627774          136   671037706   \n",
       "\n",
       "            isbn13       authors  original_publication_year  \\\n",
       "47    9.780307e+12  Ray Bradbury                     1953.0   \n",
       "636   9.780553e+12  Ray Bradbury                     1950.0   \n",
       "1640  9.780381e+12  Ray Bradbury                     1962.0   \n",
       "1979  9.780007e+12  Ray Bradbury                     1951.0   \n",
       "3126  9.780671e+12  Ray Bradbury                     1957.0   \n",
       "\n",
       "                       original_title  ... ratings_count work_ratings_count  \\\n",
       "47                     Fahrenheit 451  ...        570498            1176240   \n",
       "636            The Martian Chronicles  ...        143236             156328   \n",
       "1640  Something Wicked This Way Comes  ...         64813              71886   \n",
       "1979              The Illustrated Man  ...         49551              57968   \n",
       "3126                   Dandelion Wine  ...         32867              39979   \n",
       "\n",
       "      work_text_reviews_count  ratings_1  ratings_2  ratings_3  ratings_4  \\\n",
       "47                      30694      28366      64289     238242     426292   \n",
       "636                      5204       1666       5808      28385      56556   \n",
       "1640                     4526       1121       3850      15942      27380   \n",
       "1979                     2615        341       1688      10484      22836   \n",
       "3126                     3226        730       1958       7453      13001   \n",
       "\n",
       "      ratings_5                                          image_url  \\\n",
       "47       419051  https://images.gr-assets.com/books/1351643740m...   \n",
       "636       63913  https://images.gr-assets.com/books/1374049948m...   \n",
       "1640      23593  https://images.gr-assets.com/books/1409596011m...   \n",
       "1979      22619  https://images.gr-assets.com/books/1374049820m...   \n",
       "3126      16837  https://images.gr-assets.com/books/1374049845m...   \n",
       "\n",
       "                                        small_image_url  \n",
       "47    https://images.gr-assets.com/books/1351643740s...  \n",
       "636   https://images.gr-assets.com/books/1374049948s...  \n",
       "1640  https://images.gr-assets.com/books/1409596011s...  \n",
       "1979  https://images.gr-assets.com/books/1374049820s...  \n",
       "3126  https://images.gr-assets.com/books/1374049845s...  \n",
       "\n",
       "[5 rows x 23 columns]"
      ]
     },
     "execution_count": 146,
     "metadata": {},
     "output_type": "execute_result"
    }
   ],
   "source": [
    "df_books[df_books['authors']=='Ray Bradbury']"
   ]
  },
  {
   "cell_type": "code",
   "execution_count": 147,
   "metadata": {},
   "outputs": [
    {
     "name": "stdout",
     "output_type": "stream",
     "text": [
      "------INPUT BOOK--------\n",
      "Title: Dandelion Wine\n",
      "Author: Ray Bradbury\n",
      "Printing Book-ID: 3127\n",
      "=================++++++++++++++=========================\n",
      "-------RECOMMENDATIONS----------\n",
      "Title: The Illustrated Man\n",
      "Author: Ray Bradbury\n",
      "Printing Book-ID: 1980\n",
      "=================++++++++++++++=========================\n",
      "Title: The Martian Chronicles\n",
      "Author: Ray Bradbury\n",
      "Printing Book-ID: 637\n",
      "=================++++++++++++++=========================\n",
      "Title: Demian: Die Geschichte einer Jugend\n",
      "Author: Hermann Hesse\n",
      "Printing Book-ID: 2097\n",
      "=================++++++++++++++=========================\n",
      "Title: White Fang\n",
      "Author: Jack London\n",
      "Printing Book-ID: 935\n",
      "=================++++++++++++++=========================\n",
      "Title: I, Robot\n",
      "Author: Isaac Asimov\n",
      "Printing Book-ID: 432\n",
      "=================++++++++++++++=========================\n"
     ]
    }
   ],
   "source": [
    "getTopRecommandations(3127)"
   ]
  },
  {
   "cell_type": "code",
   "execution_count": null,
   "metadata": {},
   "outputs": [],
   "source": []
  }
 ],
 "metadata": {
  "kernelspec": {
   "display_name": "Python 3 (learn-env)",
   "language": "python",
   "name": "learn-env"
  },
  "language_info": {
   "codemirror_mode": {
    "name": "ipython",
    "version": 3
   },
   "file_extension": ".py",
   "mimetype": "text/x-python",
   "name": "python",
   "nbconvert_exporter": "python",
   "pygments_lexer": "ipython3",
   "version": "3.6.6"
  }
 },
 "nbformat": 4,
 "nbformat_minor": 2
}
